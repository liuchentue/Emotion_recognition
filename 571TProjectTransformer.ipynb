{
  "nbformat": 4,
  "nbformat_minor": 0,
  "metadata": {
    "colab": {
      "provenance": [],
      "machine_shape": "hm"
    },
    "kernelspec": {
      "name": "python3",
      "display_name": "Python 3"
    },
    "language_info": {
      "name": "python"
    },
    "gpuClass": "standard",
    "accelerator": "GPU"
  },
  "cells": [
    {
      "cell_type": "code",
      "source": [
        "import numpy as np\n",
        "import pandas as pd\n",
        "import os\n",
        "import matplotlib.pyplot as plt\n",
        "import seaborn as sns\n",
        "import tensorflow as tf\n",
        "import cv2\n",
        "\n",
        "import torch\n",
        "import torch.nn as nn\n",
        "import torch.optim as optim\n",
        "import torchvision\n",
        "import torchvision.transforms as transforms\n",
        "\n",
        "import keras\n",
        "from keras.preprocessing import image\n",
        "from keras import regularizers\n",
        "from keras.models import Sequential\n",
        "from keras.layers import Conv2D, MaxPool2D, Flatten,Dense,Dropout,BatchNormalization\n",
        "\n",
        "from tensorflow.keras.preprocessing.image import ImageDataGenerator, load_img\n",
        "from tensorflow.keras.applications import VGG16, InceptionResNetV2\n",
        "from tensorflow.keras.optimizers import Adam,RMSprop,SGD,Adamax"
      ],
      "metadata": {
        "id": "KjfcWDRH1wkE"
      },
      "execution_count": null,
      "outputs": []
    },
    {
      "cell_type": "code",
      "source": [
        "pip install opendatasets"
      ],
      "metadata": {
        "colab": {
          "base_uri": "https://localhost:8080/"
        },
        "id": "SDBDaS3p0ipA",
        "outputId": "c07b8cb1-14f3-4aed-9627-e469b2084dd5"
      },
      "execution_count": null,
      "outputs": [
        {
          "output_type": "stream",
          "name": "stdout",
          "text": [
            "Looking in indexes: https://pypi.org/simple, https://us-python.pkg.dev/colab-wheels/public/simple/\n",
            "Collecting opendatasets\n",
            "  Downloading opendatasets-0.1.22-py3-none-any.whl (15 kB)\n",
            "Requirement already satisfied: tqdm in /usr/local/lib/python3.9/dist-packages (from opendatasets) (4.65.0)\n",
            "Requirement already satisfied: click in /usr/local/lib/python3.9/dist-packages (from opendatasets) (8.1.3)\n",
            "Requirement already satisfied: kaggle in /usr/local/lib/python3.9/dist-packages (from opendatasets) (1.5.13)\n",
            "Requirement already satisfied: certifi in /usr/local/lib/python3.9/dist-packages (from kaggle->opendatasets) (2022.12.7)\n",
            "Requirement already satisfied: python-slugify in /usr/local/lib/python3.9/dist-packages (from kaggle->opendatasets) (8.0.1)\n",
            "Requirement already satisfied: python-dateutil in /usr/local/lib/python3.9/dist-packages (from kaggle->opendatasets) (2.8.2)\n",
            "Requirement already satisfied: urllib3 in /usr/local/lib/python3.9/dist-packages (from kaggle->opendatasets) (1.26.15)\n",
            "Requirement already satisfied: requests in /usr/local/lib/python3.9/dist-packages (from kaggle->opendatasets) (2.27.1)\n",
            "Requirement already satisfied: six>=1.10 in /usr/local/lib/python3.9/dist-packages (from kaggle->opendatasets) (1.16.0)\n",
            "Requirement already satisfied: text-unidecode>=1.3 in /usr/local/lib/python3.9/dist-packages (from python-slugify->kaggle->opendatasets) (1.3)\n",
            "Requirement already satisfied: idna<4,>=2.5 in /usr/local/lib/python3.9/dist-packages (from requests->kaggle->opendatasets) (3.4)\n",
            "Requirement already satisfied: charset-normalizer~=2.0.0 in /usr/local/lib/python3.9/dist-packages (from requests->kaggle->opendatasets) (2.0.12)\n",
            "Installing collected packages: opendatasets\n",
            "Successfully installed opendatasets-0.1.22\n"
          ]
        }
      ]
    },
    {
      "cell_type": "code",
      "source": [
        "pip install pandas"
      ],
      "metadata": {
        "colab": {
          "base_uri": "https://localhost:8080/"
        },
        "id": "vyU41Vc20nIp",
        "outputId": "0ddeb87b-e8f9-406e-b567-755e4fdbf17d"
      },
      "execution_count": null,
      "outputs": [
        {
          "output_type": "stream",
          "name": "stdout",
          "text": [
            "Looking in indexes: https://pypi.org/simple, https://us-python.pkg.dev/colab-wheels/public/simple/\n",
            "Requirement already satisfied: pandas in /usr/local/lib/python3.9/dist-packages (1.5.3)\n",
            "Requirement already satisfied: numpy>=1.20.3 in /usr/local/lib/python3.9/dist-packages (from pandas) (1.22.4)\n",
            "Requirement already satisfied: python-dateutil>=2.8.1 in /usr/local/lib/python3.9/dist-packages (from pandas) (2.8.2)\n",
            "Requirement already satisfied: pytz>=2020.1 in /usr/local/lib/python3.9/dist-packages (from pandas) (2022.7.1)\n",
            "Requirement already satisfied: six>=1.5 in /usr/local/lib/python3.9/dist-packages (from python-dateutil>=2.8.1->pandas) (1.16.0)\n"
          ]
        }
      ]
    },
    {
      "cell_type": "code",
      "source": [
        "pip install einops"
      ],
      "metadata": {
        "colab": {
          "base_uri": "https://localhost:8080/"
        },
        "id": "jCd55S1ta28e",
        "outputId": "eb0d5d22-1044-4d06-f361-31bf473a274a"
      },
      "execution_count": null,
      "outputs": [
        {
          "output_type": "stream",
          "name": "stdout",
          "text": [
            "Looking in indexes: https://pypi.org/simple, https://us-python.pkg.dev/colab-wheels/public/simple/\n",
            "Collecting einops\n",
            "  Downloading einops-0.6.1-py3-none-any.whl (42 kB)\n",
            "\u001b[2K     \u001b[90m━━━━━━━━━━━━━━━━━━━━━━━━━━━━━━━━━━━━━━━━\u001b[0m \u001b[32m42.2/42.2 kB\u001b[0m \u001b[31m5.1 MB/s\u001b[0m eta \u001b[36m0:00:00\u001b[0m\n",
            "\u001b[?25hInstalling collected packages: einops\n",
            "Successfully installed einops-0.6.1\n"
          ]
        }
      ]
    },
    {
      "cell_type": "code",
      "source": [
        "import opendatasets as od\n",
        "import pandas\n",
        "#weiya818\n",
        "#24d636b51e5fc8edf57c030a556b0b04\n",
        "od.download(\"https://www.kaggle.com/datasets/ansuld/fer2013plus-me\")"
      ],
      "metadata": {
        "colab": {
          "base_uri": "https://localhost:8080/"
        },
        "id": "KgN1C3fk0_t3",
        "outputId": "ad9d3c29-2f17-42b3-da16-bab652656042"
      },
      "execution_count": null,
      "outputs": [
        {
          "output_type": "stream",
          "name": "stdout",
          "text": [
            "Please provide your Kaggle credentials to download this dataset. Learn more: http://bit.ly/kaggle-creds\n",
            "Your Kaggle username: weiya818\n",
            "Your Kaggle Key: ··········\n",
            "Downloading fer2013plus-me.zip to ./fer2013plus-me\n"
          ]
        },
        {
          "output_type": "stream",
          "name": "stderr",
          "text": [
            "100%|██████████| 36.2M/36.2M [00:03<00:00, 11.5MB/s]\n"
          ]
        },
        {
          "output_type": "stream",
          "name": "stdout",
          "text": [
            "\n"
          ]
        }
      ]
    },
    {
      "cell_type": "code",
      "source": [
        "from google.colab import drive\n",
        "drive.mount('/content/drive', force_remount=True)"
      ],
      "metadata": {
        "colab": {
          "base_uri": "https://localhost:8080/"
        },
        "id": "4gEkSSZM4-8P",
        "outputId": "052356b0-5843-4a8f-89ca-2da0763fe9c5"
      },
      "execution_count": null,
      "outputs": [
        {
          "output_type": "stream",
          "name": "stdout",
          "text": [
            "Mounted at /content/drive\n"
          ]
        }
      ]
    },
    {
      "cell_type": "code",
      "source": [
        "#Codes cited from EECE571T Assignment 3\n",
        "def dict_to_device(orig, device):\n",
        "    new = {}\n",
        "    for k,v in orig.items():\n",
        "        new[k] = v.to(device)\n",
        "    return new\n",
        "\n",
        "def plot_images(img, ax):\n",
        "    grid_img = torchvision.utils.make_grid(img)\n",
        "    npimg = grid_img.numpy()\n",
        "\n",
        "    if npimg.shape[0] == 3:\n",
        "        npimg = np.transpose(npimg, (1, 2, 0))\n",
        "    ax.imshow(npimg)\n",
        "    ax.axis('off')\n",
        "\n",
        "\n",
        "def tuple_to_dict(batch_tuple):\n",
        "    batch_dict = {}\n",
        "    batch_dict['image'] = torch.tensor(batch_tuple[0])\n",
        "    batch_dict['label'] = torch.tensor(batch_tuple[1])\n",
        "    return batch_dict\n",
        "\n",
        "def move_to_cuda(x):\n",
        "  x_cuda = tuple([torch.from_numpy(arr).cuda() for arr in x])\n",
        "  return x_cuda"
      ],
      "metadata": {
        "id": "cfEBcQkUXo3p"
      },
      "execution_count": null,
      "outputs": []
    },
    {
      "cell_type": "code",
      "source": [
        "train_dir = \"/content/fer2013plus-me/train\"\n",
        "test_dir = \"/content/fer2013plus-me/test\"\n",
        "validation_dir=\"/content/fer2013plus-me/val\"\n",
        "img_size=48"
      ],
      "metadata": {
        "id": "EIrApKq72VJe"
      },
      "execution_count": null,
      "outputs": []
    },
    {
      "cell_type": "code",
      "source": [
        "train_datagen = ImageDataGenerator(\n",
        "                                         width_shift_range = 0.1,\n",
        "                                         height_shift_range = 0.1,\n",
        "                                         horizontal_flip = True,\n",
        "                                         rescale = 1./255,\n",
        "                                        )\n",
        "validation_datagen = ImageDataGenerator(rescale=1./255)\n",
        "test_datagen = ImageDataGenerator(rescale = 1./255)"
      ],
      "metadata": {
        "id": "orLa2Grv3Vmk"
      },
      "execution_count": null,
      "outputs": []
    },
    {
      "cell_type": "code",
      "source": [
        "train_iter = train_datagen.flow_from_directory(\n",
        "    directory = train_dir,\n",
        "    target_size = (img_size,img_size),\n",
        "    batch_size = 128,\n",
        "    class_mode = \"categorical\",\n",
        "    subset = \"training\"\n",
        ")\n",
        "validation_iter = validation_datagen.flow_from_directory(\n",
        "    directory = validation_dir,\n",
        "    target_size = (img_size, img_size),\n",
        "    batch_size = 128,\n",
        "    class_mode = 'categorical'\n",
        ")\n",
        "test_iter = test_datagen.flow_from_directory( directory = test_dir,\n",
        "    target_size = (img_size,img_size),\n",
        "    batch_size = 128,\n",
        "    class_mode = \"categorical\"\n",
        ")"
      ],
      "metadata": {
        "id": "1vV_tEjb3c0j",
        "colab": {
          "base_uri": "https://localhost:8080/"
        },
        "outputId": "86773e39-72cb-4e2b-b518-77173574e7be"
      },
      "execution_count": null,
      "outputs": [
        {
          "output_type": "stream",
          "name": "stdout",
          "text": [
            "Found 28561 images belonging to 8 classes.\n",
            "Found 3579 images belonging to 8 classes.\n",
            "Found 3574 images belonging to 8 classes.\n"
          ]
        }
      ]
    },
    {
      "cell_type": "code",
      "source": [
        "#Code structure for ViT is from EECE571T A3, changes are made here\n",
        "import torch\n",
        "import torch.nn as nn\n",
        "from einops.layers.torch import Rearrange\n",
        "import math\n",
        "\n",
        "class ViT(nn.Module):\n",
        "    def __init__(self):\n",
        "        super(ViT, self).__init__()\n",
        "        hidden_dim = 512\n",
        "        embedding_dim = 512\n",
        "        drop_out_prob = 0.15\n",
        "        num_layers = 6\n",
        "        image_size = 48\n",
        "        patch_size = 12\n",
        "        num_classes = 8\n",
        "        num_heads = 8\n",
        "\n",
        "        num_patches = (image_size // patch_size) ** 2\n",
        "\n",
        "        # Start with a patch_embedding layer to divide image into patches and\n",
        "        # convert each patch into vector embeddings\n",
        "        self.patch_embedding = nn.Sequential(\n",
        "            nn.Conv2d(3, embedding_dim, kernel_size=patch_size, stride=patch_size),\n",
        "            nn.BatchNorm2d(embedding_dim),\n",
        "            nn.ReLU(),\n",
        "            Rearrange('b c h w -> b (h w) c')\n",
        "        )\n",
        "\n",
        "        # Append a class token to image tokens\n",
        "        self.class_embedding = nn.Parameter(torch.randn(1, 1, embedding_dim))\n",
        "\n",
        "        # Add positional encodings\n",
        "        self.position_embedding = nn.Parameter(torch.randn(1, num_patches + 1, embedding_dim), requires_grad=False)\n",
        "        pos = torch.arange(0, num_patches+1, dtype=torch.float32).unsqueeze(1)\n",
        "        div = torch.exp(torch.arange(0, embedding_dim, 2, dtype=torch.float32) * -(math.log(10000.0) / embedding_dim))\n",
        "        self.position_embedding[:, :, 0::2] = torch.sin(pos * div)\n",
        "        self.position_embedding[:, :, 1::2] = torch.cos(pos * div)\n",
        "\n",
        "        # Apply dropout\n",
        "        self.dropout = nn.Dropout(drop_out_prob)\n",
        "\n",
        "        # Use a transformer encoder to calculate the attention weights\n",
        "        self.transformer_encoder = nn.TransformerEncoder(\n",
        "            nn.TransformerEncoderLayer(d_model=embedding_dim, nhead=num_heads, dim_feedforward=1024, dropout=drop_out_prob),\n",
        "            num_layers=num_layers\n",
        "        )\n",
        "\n",
        "        # Identity layer to select the class token\n",
        "        self.to_cls_token = nn.Identity()\n",
        "\n",
        "        # Apply an MLP head on the class token to predict the emotion\n",
        "        self.mlp_head = nn.Sequential(\n",
        "            nn.Linear(embedding_dim, hidden_dim),\n",
        "            nn.GELU(),\n",
        "            nn.Dropout(drop_out_prob),\n",
        "            nn.Linear(hidden_dim, hidden_dim),\n",
        "            nn.GELU(),\n",
        "            nn.Dropout(drop_out_prob),\n",
        "            nn.Linear(hidden_dim, num_classes)\n",
        "        )\n",
        "\n",
        "    def forward(self, input_dict):\n",
        "      x = input_dict\n",
        "      x = x.permute(0, 3, 1, 2)\n",
        "      x = self.patch_embedding(x)\n",
        "      x = torch.cat((self.class_embedding.repeat(x.shape[0], 1, 1), x), dim=1)\n",
        "      x = x + self.position_embedding[:, :x.shape[1], :]\n",
        "      x = self.dropout(x)\n",
        "\n",
        "      x = x.permute(1, 0, 2)\n",
        "      x = self.transformer_encoder(x)\n",
        "      x = x.permute(1, 0, 2)\n",
        "\n",
        "      # Select the class token and predict the output\n",
        "      x = self.to_cls_token(x[:, 0])\n",
        "      output = self.mlp_head(x)\n",
        "      logits = nn.functional.log_softmax(output, dim=1)\n",
        "\n",
        "      return {'label': logits}\n",
        "\n",
        "\n",
        "network = ViT().to('cuda')"
      ],
      "metadata": {
        "id": "QxG1CPf6uVHW"
      },
      "execution_count": null,
      "outputs": []
    },
    {
      "cell_type": "code",
      "source": [
        "total_params = sum(p.numel() for p in network.parameters())\n",
        "print(f'The model has {total_params:,} parameters.')"
      ],
      "metadata": {
        "colab": {
          "base_uri": "https://localhost:8080/"
        },
        "id": "tFMDdxyHWz8f",
        "outputId": "292fb5aa-2862-4a26-9ce1-018998e5499d"
      },
      "execution_count": null,
      "outputs": [
        {
          "output_type": "stream",
          "name": "stdout",
          "text": [
            "The model has 13,378,056 parameters.\n"
          ]
        }
      ]
    },
    {
      "cell_type": "code",
      "source": [
        "def my_loss_function(predicted_index, target_index):\n",
        "  loss = nn.CrossEntropyLoss()(predicted_index, target_index.long())\n",
        "\n",
        "  return loss"
      ],
      "metadata": {
        "id": "wZnQubwuXt4g"
      },
      "execution_count": null,
      "outputs": []
    },
    {
      "cell_type": "code",
      "source": [
        "#Codes structure from EECE571T Assignment 3, changes applied\n",
        "import torch.optim as optim\n",
        "from IPython import display\n",
        "\n",
        "fig = plt.figure(figsize=(20, 5), dpi= 80, facecolor='w', edgecolor='k')\n",
        "axes = fig.subplots(1,3)\n",
        "\n",
        "optimizer = optim.Adam(network.parameters(), lr=0.0001)\n",
        "\n",
        "num_epochs = 130\n",
        "train_losses = []\n",
        "val_losses = []\n",
        "\n",
        "for e in range(num_epochs):\n",
        "    train_iter = iter(train_iter)\n",
        "    network.train()\n",
        "    for i in range(len(train_iter)):\n",
        "        batch_cpu = next(train_iter)\n",
        "        batch_gpu = move_to_cuda(batch_cpu)\n",
        "        batch_dict = tuple_to_dict(batch_gpu)\n",
        "\n",
        "        pred = network(batch_dict['image'])\n",
        "        pred_cpu = dict_to_device(pred, 'cpu')\n",
        "\n",
        "        loss = nn.CrossEntropyLoss()(pred_cpu['label'], batch_dict['label'].cpu())\n",
        "        optimizer.zero_grad()\n",
        "        loss.backward()\n",
        "        optimizer.step()\n",
        "        train_losses.append(loss.item())\n",
        "\n",
        "        if i%100==0:\n",
        "            axes[0].cla()\n",
        "            axes[1].cla()\n",
        "\n",
        "            # plot some sample image inputs\n",
        "            plot_images(torch.from_numpy(batch_cpu[0][0:1]), ax=axes[0])\n",
        "            axes[0].legend()\n",
        "            axes[0].set_title('sample input')\n",
        "\n",
        "            # plot the training error on a log plot\n",
        "            axes[1].plot(train_losses, label='loss')\n",
        "            axes[1].set_yscale('log')\n",
        "            axes[1].set_title('Training loss')\n",
        "            axes[1].set_xlabel('number of gradient iterations')\n",
        "            axes[1].legend()\n",
        "\n",
        "            # clear output window and display updated figure\n",
        "            display.clear_output(wait=True)\n",
        "            display.display(plt.gcf())\n",
        "            print(\"Training epoch {}, iteration {} of {} ({} %), loss={:0.4f}\".format(e, i, len(train_iter), 100*i//len(train_iter), train_losses[-1]))\n",
        "\n",
        "    val_iter = iter(validation_iter)\n",
        "    network.eval()\n",
        "    for i in range(len(val_iter)):\n",
        "        batch_cpu = next(val_iter)\n",
        "        batch_gpu = move_to_cuda(batch_cpu)\n",
        "        batch_dict = tuple_to_dict(batch_gpu)\n",
        "\n",
        "        pred = network(batch_dict['image'])\n",
        "        pred_cpu = dict_to_device(pred, 'cpu')\n",
        "\n",
        "        # calculate the loss\n",
        "        with torch.no_grad():\n",
        "            loss = nn.CrossEntropyLoss()(pred_cpu['label'], batch_dict['label'].cpu())\n",
        "            val_losses.append(loss.item())\n",
        "\n",
        "        if i%10==0:\n",
        "            axes[2].cla()\n",
        "\n",
        "            # plot the validation error on a log plot\n",
        "            axes[2].plot(val_losses, label='loss')\n",
        "            axes[2].set_yscale('log')\n",
        "            axes[2].set_title('Validation loss')\n",
        "            axes[2].set_xlabel('number of gradient iterations')\n",
        "            axes[2].legend()\n",
        "\n",
        "            # clear output window and diplay updated figure\n",
        "            display.clear_output(wait=True)\n",
        "            display.display(plt.gcf())\n",
        "            print(\"Validation epoch {}, iteration {} of {} ({} %), loss={:0.4f}\".format(e, i, len(val_iter), 100*i//len(val_iter), val_losses[-1]))\n",
        "plt.close('all')"
      ],
      "metadata": {
        "colab": {
          "base_uri": "https://localhost:8080/",
          "height": 407
        },
        "id": "cS0fGkTPxGgx",
        "outputId": "4524a6e6-2697-48b9-d82a-4e570a993375"
      },
      "execution_count": null,
      "outputs": [
        {
          "output_type": "display_data",
          "data": {
            "text/plain": [
              "<Figure size 1600x400 with 3 Axes>"
            ],
            "image/png": "[encoded data removed]"
          },
          "metadata": {}
        },
        {
          "output_type": "stream",
          "name": "stdout",
          "text": [
            "Validation epoch 129, iteration 20 of 28 (71 %), loss=0.9387\n"
          ]
        }
      ]
    },
    {
      "cell_type": "code",
      "source": [
        "def get_accuracy(network, data_loader):\n",
        "    network.eval()\n",
        "    iterator = iter(data_loader)\n",
        "    correct = 0\n",
        "    total = 0\n",
        "    for i in range(len(iterator)):\n",
        "        batch_cpu = next(iterator)\n",
        "        batch_gpu = move_to_cuda(batch_cpu)\n",
        "        batch_dict = tuple_to_dict(batch_gpu)\n",
        "\n",
        "        pred = network(batch_dict['image'])['label'].argmax(dim=1, keepdim=True)\n",
        "        correct += pred.eq(batch_dict['label'].argmax(dim=1, keepdim=True).view_as(pred)).sum().item()\n",
        "        total += pred.shape[0]\n",
        "\n",
        "    return correct / total"
      ],
      "metadata": {
        "id": "5YzYA9owxKgf"
      },
      "execution_count": null,
      "outputs": []
    },
    {
      "cell_type": "code",
      "source": [
        "#130epoch\n",
        "print(\"Train accuracy is: \", get_accuracy(network, train_iter))\n",
        "print(\"Validation accuracy is: \", get_accuracy(network, validation_iter))\n",
        "print(\"Test accuracy is: \", get_accuracy(network, test_iter))"
      ],
      "metadata": {
        "colab": {
          "base_uri": "https://localhost:8080/"
        },
        "id": "BZgwH8UqxNr3",
        "outputId": "6e0cbe3c-7bf7-463b-8626-718189f88cac"
      },
      "execution_count": null,
      "outputs": [
        {
          "output_type": "stream",
          "name": "stderr",
          "text": [
            "<ipython-input-7-344152ba5cfc>:20: UserWarning: To copy construct from a tensor, it is recommended to use sourceTensor.clone().detach() or sourceTensor.clone().detach().requires_grad_(True), rather than torch.tensor(sourceTensor).\n",
            "  batch_dict['image'] = torch.tensor(batch_tuple[0])\n",
            "<ipython-input-7-344152ba5cfc>:21: UserWarning: To copy construct from a tensor, it is recommended to use sourceTensor.clone().detach() or sourceTensor.clone().detach().requires_grad_(True), rather than torch.tensor(sourceTensor).\n",
            "  batch_dict['label'] = torch.tensor(batch_tuple[1])\n"
          ]
        },
        {
          "output_type": "stream",
          "name": "stdout",
          "text": [
            "Train accuracy is:  0.8003921431322433\n",
            "Validation accuracy is:  0.7116512992455993\n",
            "Test accuracy is:  0.7129266927811976\n"
          ]
        }
      ]
    },
    {
      "cell_type": "code",
      "source": [
        "from google.colab import drive\n",
        "drive.mount('/content/drive')\n",
        "torch.save(network.state_dict(), '/content/drive/MyDrive/transformer_model_fer_130epoch.pth')"
      ],
      "metadata": {
        "colab": {
          "base_uri": "https://localhost:8080/"
        },
        "id": "JUf0hQCDLzXi",
        "outputId": "98e2145f-2649-4451-a86d-7dc8eb26a733"
      },
      "execution_count": null,
      "outputs": [
        {
          "output_type": "stream",
          "name": "stdout",
          "text": [
            "Drive already mounted at /content/drive; to attempt to forcibly remount, call drive.mount(\"/content/drive\", force_remount=True).\n"
          ]
        }
      ]
    },
    {
      "cell_type": "code",
      "source": [
        "model_new = ViT().to('cuda')\n",
        "model_new.load_state_dict(torch.load('/content/drive/MyDrive/transformer_model_fer_130epoch.pth'))"
      ],
      "metadata": {
        "colab": {
          "base_uri": "https://localhost:8080/"
        },
        "id": "Ov8JOf_hL5tE",
        "outputId": "1ad03479-2241-4359-f39e-f8c4ab16720c"
      },
      "execution_count": null,
      "outputs": [
        {
          "output_type": "execute_result",
          "data": {
            "text/plain": [
              "<All keys matched successfully>"
            ]
          },
          "metadata": {},
          "execution_count": 26
        }
      ]
    },
    {
      "cell_type": "code",
      "source": [
        "#130 epoch\n",
        "print(\"Train accuracy is: \", get_accuracy(model_new, train_iter))\n",
        "print(\"Validation accuracy is: \", get_accuracy(model_new, validation_iter))\n",
        "print(\"Test accuracy is: \", get_accuracy(model_new, test_iter))"
      ],
      "metadata": {
        "colab": {
          "base_uri": "https://localhost:8080/"
        },
        "id": "Huxh38BrM_mz",
        "outputId": "1179f2ef-24e6-48dd-d4c4-1a34bdb0ff95"
      },
      "execution_count": null,
      "outputs": [
        {
          "output_type": "stream",
          "name": "stderr",
          "text": [
            "<ipython-input-7-936e959eef95>:19: UserWarning: To copy construct from a tensor, it is recommended to use sourceTensor.clone().detach() or sourceTensor.clone().detach().requires_grad_(True), rather than torch.tensor(sourceTensor).\n",
            "  batch_dict['image'] = torch.tensor(batch_tuple[0])\n",
            "<ipython-input-7-936e959eef95>:20: UserWarning: To copy construct from a tensor, it is recommended to use sourceTensor.clone().detach() or sourceTensor.clone().detach().requires_grad_(True), rather than torch.tensor(sourceTensor).\n",
            "  batch_dict['label'] = torch.tensor(batch_tuple[1])\n"
          ]
        },
        {
          "output_type": "stream",
          "name": "stdout",
          "text": [
            "Train accuracy is:  0.7893981303175659\n",
            "Validation accuracy is:  0.7175188600167645\n",
            "Test accuracy is:  0.7168438724118634\n"
          ]
        }
      ]
    },
    {
      "cell_type": "code",
      "source": [
        "from google.colab import drive\n",
        "drive.mount('/content/drive')\n",
        "torch.save(network.state_dict(), '/content/drive/MyDrive/model_trans_fer_V2.pth')"
      ],
      "metadata": {
        "colab": {
          "base_uri": "https://localhost:8080/"
        },
        "id": "ssGXwppBSG9N",
        "outputId": "588fac07-21d6-4f5d-fe8d-4edafdc5aef9"
      },
      "execution_count": null,
      "outputs": [
        {
          "output_type": "stream",
          "name": "stdout",
          "text": [
            "Drive already mounted at /content/drive; to attempt to forcibly remount, call drive.mount(\"/content/drive\", force_remount=True).\n"
          ]
        }
      ]
    },
    {
      "cell_type": "code",
      "source": [
        "# model_new = ViT().to('cuda')\n",
        "# model_new.load_state_dict(torch.load('/content/drive/MyDrive/model_trans_fer_V2.pth'))"
      ],
      "metadata": {
        "colab": {
          "base_uri": "https://localhost:8080/"
        },
        "id": "q13LUn60SRef",
        "outputId": "34ae760a-0761-405d-ef8d-f7379faea8f0"
      },
      "execution_count": null,
      "outputs": [
        {
          "output_type": "execute_result",
          "data": {
            "text/plain": [
              "<All keys matched successfully>"
            ]
          },
          "metadata": {},
          "execution_count": 14
        }
      ]
    }
  ]
}